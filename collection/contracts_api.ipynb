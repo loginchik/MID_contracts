{
 "cells": [
  {
   "attachments": {},
   "cell_type": "markdown",
   "metadata": {},
   "source": [
    "Импорт необходимых библиотек"
   ]
  },
  {
   "cell_type": "code",
   "execution_count": 2,
   "metadata": {},
   "outputs": [],
   "source": [
    "import requests\n",
    "import time\n",
    "import pandas as pd\n",
    "import json"
   ]
  },
  {
   "attachments": {},
   "cell_type": "markdown",
   "metadata": {},
   "source": [
    "Поиск производится по ИНН заказчика -- 7704206201, сортировка -- от новейших записей к старейшим. Кроме ИНН заказчика, никаких других критериев для фильтрации результатов нет -- выгружается информация по всем контрактам. "
   ]
  },
  {
   "cell_type": "code",
   "execution_count": 3,
   "metadata": {},
   "outputs": [],
   "source": [
    "INN = 7704206201"
   ]
  },
  {
   "attachments": {},
   "cell_type": "markdown",
   "metadata": {},
   "source": [
    "# Тестовый запрос\n",
    "\n",
    "Проведём тестовый запрос, чтобы из него убедиться или узнать: \n",
    "- что запрос сформирован корректно и сервер доступен; \n",
    "- общее количество контрактов, где заказчиком выступает организация с указанным ИНН (искомое число лежит в ключе total); \n",
    "- количество результатов на одной странице (искомое число лежит в ключе perpage и, по идее, если страниц несколько, должно быть 50);\n",
    "- структуру данных внутри каждой записи. "
   ]
  },
  {
   "cell_type": "code",
   "execution_count": 4,
   "metadata": {},
   "outputs": [
    {
     "name": "stdout",
     "output_type": "stream",
     "text": [
      "Status code: 200\n",
      "Всё ок: True\n"
     ]
    }
   ],
   "source": [
    "url = f'http://openapi.clearspending.ru/restapi/v3/contracts/select/?customerinn={INN}&sort=-signDate'\n",
    "resp = requests.get(url)\n",
    "\n",
    "print('Status code:', resp.status_code)\n",
    "print('Всё ок:', resp.status_code == 200)"
   ]
  },
  {
   "attachments": {},
   "cell_type": "markdown",
   "metadata": {},
   "source": [
    "## Общая структура данных и расчёты для парсинга\n",
    "\n",
    "- ключ `contracts`, внутри которого лежат ключи `total`, `page`, `data` (структура описана в другом разделе блокнота), `perpage`;\n",
    "- расчёт количества страниц, с которых необходимо собрать данные в процессе парсинга. "
   ]
  },
  {
   "attachments": {},
   "cell_type": "markdown",
   "metadata": {},
   "source": [
    "`resp.status_code == 200` означает, что сервер доступен, запрос сформирован корректно -- какие-то данные были получены. Чтобы посмотреть эти данные, результаты запроса нужно преобразовать в json. "
   ]
  },
  {
   "cell_type": "code",
   "execution_count": 5,
   "metadata": {},
   "outputs": [
    {
     "data": {
      "text/plain": [
       "dict_keys(['contracts'])"
      ]
     },
     "execution_count": 5,
     "metadata": {},
     "output_type": "execute_result"
    }
   ],
   "source": [
    "resp_data = resp.json()\n",
    "resp_data.keys()"
   ]
  },
  {
   "attachments": {},
   "cell_type": "markdown",
   "metadata": {},
   "source": [
    "Внутри json лежит словарь со сложной вложенной структурой. На верхнем уровне существует только один ключ -- `contracts`, внутри которого лежит вся остальная информация. Поэтому можно перезаписать `resp_data` -- сохранить туда содержимое, хранящееся под ключом `contracts`."
   ]
  },
  {
   "cell_type": "code",
   "execution_count": 6,
   "metadata": {},
   "outputs": [
    {
     "data": {
      "text/plain": [
       "dict_keys(['total', 'data', 'page', 'perpage'])"
      ]
     },
     "execution_count": 6,
     "metadata": {},
     "output_type": "execute_result"
    }
   ],
   "source": [
    "resp_data = resp_data['contracts']\n",
    "resp_data.keys()"
   ]
  },
  {
   "attachments": {},
   "cell_type": "markdown",
   "metadata": {},
   "source": [
    "Среди текущих ключей: \n",
    "* `total` -- число, общее количество контрактов, в которых заказчиком выступает организация с указанным ИНН;\n",
    "* `data` -- список словарей, где каждый словарь -- информация об одном контракте;\n",
    "* `page` -- номер страницы;\n",
    "* `perpage` -- количество контрактов, выдаваемых на одной странице. \n",
    "\n",
    "Зная общее количество контрактов (`total`) и количество контрактов, выдаваемых на одной странице (`perpage`), можем посчитать количество страниц, по которым нужно будет пройти при парсинге. "
   ]
  },
  {
   "cell_type": "code",
   "execution_count": 7,
   "metadata": {},
   "outputs": [
    {
     "name": "stdout",
     "output_type": "stream",
     "text": [
      "Всего контрактов: 1556\n",
      "Количество контрактов на одной странице: 50\n"
     ]
    }
   ],
   "source": [
    "print('Всего контрактов:', resp_data['total'])\n",
    "print('Количество контрактов на одной странице:', resp_data['perpage'])"
   ]
  },
  {
   "cell_type": "code",
   "execution_count": 8,
   "metadata": {},
   "outputs": [
    {
     "name": "stdout",
     "output_type": "stream",
     "text": [
      "Количество страниц для парсинга: 32\n"
     ]
    }
   ],
   "source": [
    "# Количество страниц должно быть целым числом\n",
    "if resp_data['total'] % resp_data['perpage'] == 0:\n",
    "    pages_number = resp_data['total'] // resp_data['perpage']\n",
    "\n",
    "# Если количество страниц -- нецелое число, \n",
    "# то прибавим к результату целочисленного деления 1, \n",
    "# чтобы включить в выборку последнюю, неполную страницу \n",
    "else:\n",
    "    pages_number = resp_data['total'] // resp_data['perpage'] + 1\n",
    "    \n",
    "print('Количество страниц для парсинга:', pages_number)"
   ]
  },
  {
   "attachments": {},
   "cell_type": "markdown",
   "metadata": {},
   "source": [
    "## Структура data и нужные поля\n",
    "\n",
    "Изучим структуру записи данных, чтобы определить, значение каких ключей внутри `data` необходимо получить для дальнейшего анализа. Чтобы не перегружать текущий блокнот, сохраним данные из первой записи в файл `one_record.json` и будем визуально ориентироваться на неё. "
   ]
  },
  {
   "cell_type": "code",
   "execution_count": 9,
   "metadata": {},
   "outputs": [],
   "source": [
    "first_record = resp_data['data'][0]\n",
    "\n",
    "with open('data/one_record.json', 'w') as one_record_file:\n",
    "    json.dump(obj=first_record, fp=one_record_file, indent=2, ensure_ascii=False)"
   ]
  },
  {
   "attachments": {},
   "cell_type": "markdown",
   "metadata": {},
   "source": [
    "При последующем анализе и парсинге выяснилось, что записи в ключе `contractProcedure` (информация о том, как подписывался конракт и его содержание) не универсальна -- большое количество контрактов содержит другую структуру. Поэтому содержимое ключа не является предметом интереса при сборе данных. \n",
    "\n",
    "`scan` -- ссылки на сканы документов, связанных с этим контрактом, `number` -- номер контракта. "
   ]
  },
  {
   "attachments": {},
   "cell_type": "markdown",
   "metadata": {},
   "source": [
    "`currentContractStage` -- текущее состояние контракта, которое обозначается кодировкой в виде одной или двух английских заглавных букв, а именно: \n",
    "\n",
    "| Код\t| Значение| \n",
    "|---|---|\n",
    "| E\t| Исполнение| \n",
    "| EC\t| Исполнение завершено| \n",
    "| ET\t| Исполнение прекращено| \n",
    "| IN\t| Аннулирован| \n",
    "\n",
    "Проследим путь, который необходимо пройти по ключам, чтобы получить эту информацию из записи."
   ]
  },
  {
   "cell_type": "code",
   "execution_count": 10,
   "metadata": {},
   "outputs": [
    {
     "data": {
      "text/plain": [
       "'E'"
      ]
     },
     "execution_count": 10,
     "metadata": {},
     "output_type": "execute_result"
    }
   ],
   "source": [
    "first_record['currentContractStage']"
   ]
  },
  {
   "attachments": {},
   "cell_type": "markdown",
   "metadata": {},
   "source": [
    "`id` -- некий идентификационный код записи или контракта с неопределённым назначением; `fileVersion` -- версия файла, также с неопредёленным форматом записи. "
   ]
  },
  {
   "attachments": {},
   "cell_type": "markdown",
   "metadata": {},
   "source": [
    "`regionCode` -- код региона заказчика. Проследим путь к этому ключу -- то, каким образом можно извлечь информацию о коде региона заказчика. "
   ]
  },
  {
   "cell_type": "code",
   "execution_count": 11,
   "metadata": {},
   "outputs": [
    {
     "data": {
      "text/plain": [
       "'77'"
      ]
     },
     "execution_count": 11,
     "metadata": {},
     "output_type": "execute_result"
    }
   ],
   "source": [
    "first_record['regionCode']"
   ]
  },
  {
   "attachments": {},
   "cell_type": "markdown",
   "metadata": {},
   "source": [
    "`contractUrl` -- ссылка на страницу контракта на официальном сайте государственных закупок ([zakupki.gov.ru](zakupki.gov.ru)). Сохраним эту ссылку в набор данных, чтобы иметь возможность быстро обращаться к информации о контракте -- для этого проследим путь к значению этого ключа. "
   ]
  },
  {
   "cell_type": "code",
   "execution_count": 12,
   "metadata": {},
   "outputs": [
    {
     "data": {
      "text/plain": [
       "'http://zakupki.gov.ru/epz/contract/contractCard/common-info.html?reestrNumber=1770420620122000099'"
      ]
     },
     "execution_count": 12,
     "metadata": {},
     "output_type": "execute_result"
    }
   ],
   "source": [
    "first_record['contractUrl']"
   ]
  },
  {
   "attachments": {},
   "cell_type": "markdown",
   "metadata": {},
   "source": [
    "`singleCustomerReason` -- ключ, внутри которого содержится словарь с обоснованием единственного поставщика услуг (сами услуги описываются дальше). "
   ]
  },
  {
   "attachments": {},
   "cell_type": "markdown",
   "metadata": {},
   "source": [
    "`signDate` -- дата подписания контракта. Проследим путь к этому значению. "
   ]
  },
  {
   "cell_type": "code",
   "execution_count": 13,
   "metadata": {},
   "outputs": [
    {
     "data": {
      "text/plain": [
       "'2022-12-29T00:00:00'"
      ]
     },
     "execution_count": 13,
     "metadata": {},
     "output_type": "execute_result"
    }
   ],
   "source": [
    "first_record['signDate']"
   ]
  },
  {
   "attachments": {},
   "cell_type": "markdown",
   "metadata": {},
   "source": [
    "`price` -- цена за поставляемые услуги или товары, заявленная в контракте (может отличаться от реальной стоимости услуг или товаров, которые на самом деле были поставлены). Проследим путь к этому значению. "
   ]
  },
  {
   "cell_type": "code",
   "execution_count": 14,
   "metadata": {},
   "outputs": [
    {
     "data": {
      "text/plain": [
       "3815000.0"
      ]
     },
     "execution_count": 14,
     "metadata": {},
     "output_type": "execute_result"
    }
   ],
   "source": [
    "first_record['price']"
   ]
  },
  {
   "attachments": {},
   "cell_type": "markdown",
   "metadata": {},
   "source": [
    "`documentBase` -- федеральный закон или иной нормативный акт, согласно с которым осуществляется государственная закупка; `foundation` -- словарь, который содержит внутри себя информацию, скорее всего, о том, что связано с источниками финансирования. "
   ]
  },
  {
   "attachments": {},
   "cell_type": "markdown",
   "metadata": {},
   "source": [
    "`fz` -- номер федерального закона, по нормативам которого осуществляется федеральная закупка. Федеральный закон определяется долей государственной собственности в организации и целью закупки. \n",
    "\n",
    "Предположительно, в закупках этой организации будет использоваться 44-ФЗ, так как государственная доля в МИД -- 100% (это полностью государственное предприятие). "
   ]
  },
  {
   "cell_type": "code",
   "execution_count": 15,
   "metadata": {},
   "outputs": [
    {
     "data": {
      "text/plain": [
       "'44'"
      ]
     },
     "execution_count": 15,
     "metadata": {},
     "output_type": "execute_result"
    }
   ],
   "source": [
    "first_record['fz']"
   ]
  },
  {
   "attachments": {},
   "cell_type": "markdown",
   "metadata": {},
   "source": [
    "`publishDate` -- дата публикации информации о контракте на сайте государственных закупок. По 44-ФЗ у заказчика есть пять рабочих дней с момента подписания контракта на то, чтобы отправить данные в ЕИС; при расторжении контракта по решению суда -- также пять рабочих дней; при расторжении в одностороннем порядке -- три рабочих дня. "
   ]
  },
  {
   "attachments": {},
   "cell_type": "markdown",
   "metadata": {},
   "source": [
    "`regNum` -- идентификационный код закупки, который указывается в карточке проекта. Проследим путь к значению этого ключа: по номеру контракта всегда можно будет найти информацию о нём. "
   ]
  },
  {
   "cell_type": "code",
   "execution_count": 16,
   "metadata": {},
   "outputs": [
    {
     "data": {
      "text/plain": [
       "'1770420620122000099'"
      ]
     },
     "execution_count": 16,
     "metadata": {},
     "output_type": "execute_result"
    }
   ],
   "source": [
    "first_record['regNum']"
   ]
  },
  {
   "attachments": {},
   "cell_type": "markdown",
   "metadata": {},
   "source": [
    "`versionNumber` -- неопределённый номер версии; `schemaVersion` -- неопределённая схема взаимодействия кого-то с кем-то. "
   ]
  },
  {
   "attachments": {},
   "cell_type": "markdown",
   "metadata": {},
   "source": [
    "`execution` -- информация о датах, когда осуществлось действие контракта. В этом словаре существует два варианта структуры:\n",
    "\n",
    "либо: \n",
    "* `startDate` -- дата начала действия контракта;\n",
    "* `endDate` -- дата конца действия контракта. \n",
    "\n",
    "либо: \n",
    "* `month` -- месяц конца действия контракта;\n",
    "* `year` -- год конца действия контракта. "
   ]
  },
  {
   "cell_type": "code",
   "execution_count": 17,
   "metadata": {},
   "outputs": [
    {
     "data": {
      "text/plain": [
       "'2023-01-01'"
      ]
     },
     "execution_count": 17,
     "metadata": {},
     "output_type": "execute_result"
    }
   ],
   "source": [
    "first_record['execution']['startDate']"
   ]
  },
  {
   "cell_type": "code",
   "execution_count": 18,
   "metadata": {},
   "outputs": [
    {
     "data": {
      "text/plain": [
       "'2024-03-31'"
      ]
     },
     "execution_count": 18,
     "metadata": {},
     "output_type": "execute_result"
    }
   ],
   "source": [
    "first_record['execution']['endDate']"
   ]
  },
  {
   "attachments": {},
   "cell_type": "markdown",
   "metadata": {},
   "source": [
    "`customer` -- словарь, в котором содержится информация по заказчику. Так как данные собираются только по одной организации-заказчику, сохранять информацию из этого словаря нет смысла. "
   ]
  },
  {
   "attachments": {},
   "cell_type": "markdown",
   "metadata": {},
   "source": [
    "`currency` -- словарь с информацией о валюте, в которой заключён контракт. Независимо от валюты, все цифры, связанные с деньгами, представлены в рублях. Обозначим путь к коду валюты. "
   ]
  },
  {
   "cell_type": "code",
   "execution_count": 19,
   "metadata": {},
   "outputs": [
    {
     "data": {
      "text/plain": [
       "'RUB'"
      ]
     },
     "execution_count": 19,
     "metadata": {},
     "output_type": "execute_result"
    }
   ],
   "source": [
    "first_record['currency']['code']"
   ]
  },
  {
   "attachments": {},
   "cell_type": "markdown",
   "metadata": {},
   "source": [
    "`suppliers` -- список словарей, где каждый словарь -- это информация об одном поставщике. Определим путь к следующим данным внутри каждой записи о поставщике: название организации-поставщика, ИНН организации-поставщика, тип организации-поставщика.\n",
    "\n",
    "Типы организации-поставщика: \n",
    "\n",
    "| Код | Значение| \n",
    "|---|---|\n",
    "| U | Юридическое лицо | \n",
    "| P | Физическое лицо (ИП) |"
   ]
  },
  {
   "cell_type": "code",
   "execution_count": 20,
   "metadata": {},
   "outputs": [
    {
     "data": {
      "text/plain": [
       "'ФЕДЕРАЛЬНОЕ ГОСУДАРСТВЕННОЕ УНИТАРНОЕ ПРЕДПРИЯТИЕ \"ПРЕЗИДЕНТ-СЕРВИС\" УПРАВЛЕНИЯ ДЕЛАМИ ПРЕЗИДЕНТА РОССИЙСКОЙ ФЕДЕРАЦИИ'"
      ]
     },
     "execution_count": 20,
     "metadata": {},
     "output_type": "execute_result"
    }
   ],
   "source": [
    "first_record['suppliers'][0]['organizationName']"
   ]
  },
  {
   "cell_type": "code",
   "execution_count": 21,
   "metadata": {},
   "outputs": [
    {
     "data": {
      "text/plain": [
       "'7730050504'"
      ]
     },
     "execution_count": 21,
     "metadata": {},
     "output_type": "execute_result"
    }
   ],
   "source": [
    "first_record['suppliers'][0]['inn']"
   ]
  },
  {
   "cell_type": "code",
   "execution_count": 22,
   "metadata": {},
   "outputs": [
    {
     "data": {
      "text/plain": [
       "'U'"
      ]
     },
     "execution_count": 22,
     "metadata": {},
     "output_type": "execute_result"
    }
   ],
   "source": [
    "first_record['suppliers'][0]['participantType']"
   ]
  },
  {
   "attachments": {},
   "cell_type": "markdown",
   "metadata": {},
   "source": [
    "`products` -- список словарей, где каждый словарь -- это информация об одном товаре или об одной услуге, закупленном(-ой) в рамках текущего контракта. \n",
    "\n",
    "* `OKEI` -- словарь с обозначением единицы измерения товара или услуги, которые закупаются в рамках контракта по текущему продукту (обозначения установлены в [классификаторе](https://www.consultant.ru/document/cons_doc_LAW_53447/3308dd3043911d8e4fc498c856fd3ba547580b3d/));\n",
    "* `price` -- цена, установленная за единицу продукта. \n",
    "* `OKPD2` -- словарь с кодом и наименованием обозначения типа продукции (обозначения установлены в [классификаторе](okpd2.json));\n",
    "* `sid` -- неопределённый индетификатор безопасности; \n",
    "* `sum` -- итоговое количество средств, потраченных на закупку товара (в идеале совпадает со значением цены, умноженной на количество закупленного продукта);\n",
    "* `quantity` -- количество продукта. "
   ]
  },
  {
   "cell_type": "code",
   "execution_count": 24,
   "metadata": {},
   "outputs": [
    {
     "data": {
      "text/plain": [
       "'52.23.11.000'"
      ]
     },
     "execution_count": 24,
     "metadata": {},
     "output_type": "execute_result"
    }
   ],
   "source": [
    "first_record['products'][0]['OKPD2']['code']\n",
    "\n",
    "# В контрактах, заключённых до 2014 года \n",
    "# first_record['products'][0]['OKPD']['code']"
   ]
  },
  {
   "cell_type": "code",
   "execution_count": 25,
   "metadata": {},
   "outputs": [
    {
     "data": {
      "text/plain": [
       "3815000.0"
      ]
     },
     "execution_count": 25,
     "metadata": {},
     "output_type": "execute_result"
    }
   ],
   "source": [
    "first_record['products'][0]['price']"
   ]
  },
  {
   "cell_type": "code",
   "execution_count": 26,
   "metadata": {},
   "outputs": [
    {
     "data": {
      "text/plain": [
       "'1'"
      ]
     },
     "execution_count": 26,
     "metadata": {},
     "output_type": "execute_result"
    }
   ],
   "source": [
    "first_record['products'][0]['quantity']"
   ]
  },
  {
   "cell_type": "code",
   "execution_count": 27,
   "metadata": {},
   "outputs": [
    {
     "data": {
      "text/plain": [
       "3815000.0"
      ]
     },
     "execution_count": 27,
     "metadata": {},
     "output_type": "execute_result"
    }
   ],
   "source": [
    "first_record['products'][0]['sum']"
   ]
  },
  {
   "attachments": {},
   "cell_type": "markdown",
   "metadata": {},
   "source": [
    "`printFormUrl` -- информация о заключенном контракте (его изменении) в подготовленном для печати виде. "
   ]
  },
  {
   "cell_type": "code",
   "execution_count": 28,
   "metadata": {},
   "outputs": [
    {
     "data": {
      "text/plain": [
       "'https://zakupki.gov.ru/epz/contract/printForm/view.html?contractInfoId=78707054'"
      ]
     },
     "execution_count": 28,
     "metadata": {},
     "output_type": "execute_result"
    }
   ],
   "source": [
    "first_record['printFormUrl']"
   ]
  },
  {
   "attachments": {},
   "cell_type": "markdown",
   "metadata": {},
   "source": [
    "# Парсинг\n",
    "\n",
    "Парсинг выполняется с помощью цикла for, внутри которого находится ещё несколько циклов итерации. Результаты сохраняются в словарь `contracts_tab`, который впоследствии будет преобразован в датафрейм. `contracts_tab` представляет собой словарь словарей, где каждый словарь -- это информация об одном продукте в контракте; если продуктов в контракте несколько, то каждый продукт написан на новой строке. \n",
    "\n",
    "Перерыв между запросами -- 2 секунды. "
   ]
  },
  {
   "cell_type": "code",
   "execution_count": 29,
   "metadata": {},
   "outputs": [
    {
     "name": "stdout",
     "output_type": "stream",
     "text": [
      "1 200\n",
      "2 200\n",
      "3 200\n",
      "4 200\n",
      "5 200\n",
      "6 200\n",
      "7 200\n",
      "8 200\n",
      "9 200\n",
      "10 200\n",
      "11 200\n",
      "12 200\n",
      "13 200\n",
      "14 200\n",
      "15 200\n",
      "16 200\n",
      "17 200\n",
      "18 200\n",
      "19 200\n",
      "20 200\n",
      "21 200\n",
      "22 200\n",
      "23 200\n",
      "24 200\n",
      "25 200\n",
      "26 200\n",
      "27 200\n",
      "28 200\n",
      "29 200\n",
      "30 200\n",
      "31 200\n",
      "32 200\n"
     ]
    }
   ],
   "source": [
    "contracts_tab = list()\n",
    "\n",
    "for page in range(1, pages_number + 1):\n",
    "    # Запрос страницы\n",
    "    url = f'http://openapi.clearspending.ru/restapi/v3/contracts/select/?customerinn=7704206201&sort=-signDate&page={page}'\n",
    "    response = requests.get(url)\n",
    "    # Вывод статуса запроса \n",
    "    print(page, response.status_code)\n",
    "    \n",
    "    # Получение данных из результата запроса \n",
    "    resp_data = response.json()['contracts']\n",
    "    # Итерация через строки в наборе данных \n",
    "    for rec in resp_data['data']:\n",
    "        # Итерация через продукты в записи \n",
    "        # для разделения отдельных продуктов на отдельные строки\n",
    "        for product in rec.get('products'):\n",
    "            contract = list()\n",
    "            \n",
    "            # Идентификационный код контракта \n",
    "            regNum = rec.get('regNum')\n",
    "            contract.append(regNum)\n",
    "            # Статус действия контракта\n",
    "            currentContractStage = rec.get('currentContractStage')\n",
    "            contract.append(currentContractStage)\n",
    "\n",
    "            # Дата подписания контракта\n",
    "            signDate = rec.get('signDate')\n",
    "            contract.append(signDate)\n",
    "\n",
    "            # Срок действия контракта \n",
    "            execution = rec.get('execution', {})\n",
    "\n",
    "            startDate = execution.get('startDate')\n",
    "            contract.append(startDate)\n",
    "\n",
    "            endDate = execution.get('endDate')\n",
    "            contract.append(endDate)\n",
    "\n",
    "            execution_month = execution.get('month')\n",
    "            contract.append(execution_month)\n",
    "\n",
    "            execution_year = execution.get('year')\n",
    "            contract.append(execution_year)\n",
    "\n",
    "            # Код региона заказчика \n",
    "            regionCode = rec.get('regionCode')\n",
    "            contract.append(regionCode)\n",
    "\n",
    "            # Номер ФЗ\n",
    "            fz = rec.get('fz')\n",
    "            contract.append(fz)\n",
    "\n",
    "            # Код валюты, в которой выполняется контракт \n",
    "            currency_code = rec.get('currency', {}).get('code')\n",
    "            contract.append(currency_code)\n",
    "\n",
    "            # Общая цена контракта\n",
    "            contract_price = rec.get('price')\n",
    "            contract.append(contract_price)\n",
    "\n",
    "            # Поставщики \n",
    "            supps = list()\n",
    "            try: \n",
    "                suppliers = rec['suppliers']\n",
    "                for sup in suppliers:\n",
    "                    sup_organizationName = sup.get('organizationName')\n",
    "                    sup_inn = sup.get('inn')\n",
    "                    sup_participantType = sup.get('participantType')\n",
    "                    \n",
    "                    sup_list = [sup_organizationName, sup_inn, sup_participantType]\n",
    "                    supps.append(sup_list)\n",
    "            except: pass\n",
    "            contract.append(supps)\n",
    "                \n",
    "            # Информация о продукте \n",
    "            prod_OKPD2_code = product.get('OKPD2', {}).get('code')\n",
    "            contract.append(prod_OKPD2_code)\n",
    "            prod_OKPD_code = product.get('OKPD', {}).get('code')\n",
    "            contract.append(prod_OKPD_code)\n",
    "            prod_price = product.get('price')\n",
    "            contract.append(prod_price)\n",
    "            prod_quantity = product.get('quantity')\n",
    "            contract.append(prod_quantity)\n",
    "            prod_sum = product.get('sum')\n",
    "            contract.append(prod_sum)\n",
    "            \n",
    "            # Ссылка на контракт на госзакупках \n",
    "            contractUrl = rec.get('contractUrl')\n",
    "            contract.append(contractUrl)\n",
    "            \n",
    "            # Ссылка на контракт на печатную версию контракта \n",
    "            printFormUrl = rec.get('printFormUrl')\n",
    "            contract.append(printFormUrl)\n",
    "            \n",
    "        contracts_tab.append(contract)\n",
    "    \n",
    "    time.sleep(2)"
   ]
  },
  {
   "attachments": {},
   "cell_type": "markdown",
   "metadata": {},
   "source": [
    "# Обработка и сохранение результатов парсинга"
   ]
  },
  {
   "attachments": {},
   "cell_type": "markdown",
   "metadata": {},
   "source": [
    "Запишем наполненный при парсинге список в датафрейм. Каждый список внутри списка `contracts_tab` -- это одна строка в новом датафрейме. "
   ]
  },
  {
   "cell_type": "code",
   "execution_count": 30,
   "metadata": {},
   "outputs": [],
   "source": [
    "df = pd.DataFrame(contracts_tab)"
   ]
  },
  {
   "attachments": {},
   "cell_type": "markdown",
   "metadata": {},
   "source": [
    "Проверим размерность датафрейма и убедимся, что скачаны все имеющиеся в базе государственных закупок контракты, где заказчиком выступает организация с указанным при запросе ИНН. "
   ]
  },
  {
   "cell_type": "code",
   "execution_count": 31,
   "metadata": {},
   "outputs": [
    {
     "name": "stdout",
     "output_type": "stream",
     "text": [
      "Размерность датафрейма: (1556, 19)\n",
      "Есть все контракты: True\n"
     ]
    }
   ],
   "source": [
    "print('Размерность датафрейма:', df.shape)\n",
    "print('Есть все контракты:', df.shape[0] == 1556)  # число известно с тестового парсинга"
   ]
  },
  {
   "attachments": {},
   "cell_type": "markdown",
   "metadata": {},
   "source": [
    "Переименуем колонки в датафрейме, чтобы они были представлены не числами, а отражали суть тех данных, которые в них хранятся. Порядок колонок определялся порядком записи данных об одном контракте при парсинге, поэтому его легко восстановить. "
   ]
  },
  {
   "cell_type": "code",
   "execution_count": 32,
   "metadata": {},
   "outputs": [],
   "source": [
    "column_names = {\n",
    "    0: 'regNum', 1: 'currentContractStage', 2: 'signDate', 3: 'startDate', 4: 'endDate', 5: 'executionMonth',\n",
    "    6: 'executionYear', 7: 'regionCode', 8: 'fz', 9: 'currencyCode', 10: 'contractPrice', 11: 'suppliers', \n",
    "    12: 'OKPD2', 13: 'OKPD', 14: 'prodPrice', 15: 'prodQuantity', 16: 'prodSum', 17: 'contractUrl', 18: 'printFormUrl',\n",
    "}\n",
    "\n",
    "df = df.rename(columns=column_names)"
   ]
  },
  {
   "attachments": {},
   "cell_type": "markdown",
   "metadata": {},
   "source": [
    "Убедимся, что данные в датафрейме не дублируются. Так как в колонке `suppliers` хранятся списки, исключим её из списка колонок, по которым необходимо проверять дубликаты (иначе возникнет ошибка `TypeError: unhashable type: 'list'`)."
   ]
  },
  {
   "cell_type": "code",
   "execution_count": 33,
   "metadata": {},
   "outputs": [
    {
     "data": {
      "text/html": [
       "<div>\n",
       "<style scoped>\n",
       "    .dataframe tbody tr th:only-of-type {\n",
       "        vertical-align: middle;\n",
       "    }\n",
       "\n",
       "    .dataframe tbody tr th {\n",
       "        vertical-align: top;\n",
       "    }\n",
       "\n",
       "    .dataframe thead th {\n",
       "        text-align: right;\n",
       "    }\n",
       "</style>\n",
       "<table border=\"1\" class=\"dataframe\">\n",
       "  <thead>\n",
       "    <tr style=\"text-align: right;\">\n",
       "      <th></th>\n",
       "      <th>regNum</th>\n",
       "      <th>currentContractStage</th>\n",
       "      <th>signDate</th>\n",
       "      <th>startDate</th>\n",
       "      <th>endDate</th>\n",
       "      <th>executionMonth</th>\n",
       "      <th>executionYear</th>\n",
       "      <th>regionCode</th>\n",
       "      <th>fz</th>\n",
       "      <th>currencyCode</th>\n",
       "      <th>contractPrice</th>\n",
       "      <th>suppliers</th>\n",
       "      <th>OKPD2</th>\n",
       "      <th>OKPD</th>\n",
       "      <th>prodPrice</th>\n",
       "      <th>prodQuantity</th>\n",
       "      <th>prodSum</th>\n",
       "      <th>contractUrl</th>\n",
       "      <th>printFormUrl</th>\n",
       "    </tr>\n",
       "  </thead>\n",
       "  <tbody>\n",
       "  </tbody>\n",
       "</table>\n",
       "</div>"
      ],
      "text/plain": [
       "Empty DataFrame\n",
       "Columns: [regNum, currentContractStage, signDate, startDate, endDate, executionMonth, executionYear, regionCode, fz, currencyCode, contractPrice, suppliers, OKPD2, OKPD, prodPrice, prodQuantity, prodSum, contractUrl, printFormUrl]\n",
       "Index: []"
      ]
     },
     "execution_count": 33,
     "metadata": {},
     "output_type": "execute_result"
    }
   ],
   "source": [
    "columns_can_duplicate = list(df.columns)\n",
    "columns_can_duplicate.remove('suppliers')\n",
    "\n",
    "df[df.duplicated(subset=columns_can_duplicate)]"
   ]
  },
  {
   "attachments": {},
   "cell_type": "markdown",
   "metadata": {},
   "source": [
    "Проверим количество пропущенных значений в датафрейме. "
   ]
  },
  {
   "cell_type": "code",
   "execution_count": 34,
   "metadata": {},
   "outputs": [
    {
     "data": {
      "text/plain": [
       "regNum                     0\n",
       "currentContractStage       0\n",
       "signDate                   0\n",
       "startDate                629\n",
       "endDate                  629\n",
       "executionMonth           927\n",
       "executionYear            927\n",
       "regionCode                 0\n",
       "fz                         0\n",
       "currencyCode               0\n",
       "contractPrice              0\n",
       "suppliers                  0\n",
       "OKPD2                    838\n",
       "OKPD                    1281\n",
       "prodPrice                  0\n",
       "prodQuantity              70\n",
       "prodSum                   61\n",
       "contractUrl                0\n",
       "printFormUrl              17\n",
       "dtype: int64"
      ]
     },
     "execution_count": 34,
     "metadata": {},
     "output_type": "execute_result"
    }
   ],
   "source": [
    "df.isna().sum()"
   ]
  },
  {
   "attachments": {},
   "cell_type": "markdown",
   "metadata": {},
   "source": [
    "Пропущенные значения в колонках `startDate`, `endDate` и в колонках `executionMonth`, `executionYear` взаимозаменяемы: если в записи есть значение в одной паре колонок, то другая пара колонок будет пустой. В сумме количество непустых значений в обеих колонках -- 1556, то есть во всём датафрейме в каждой записи присутствует временная отметка о дате, когда контракт исполнялся. В колонках `OKPD2` и `OKPD` ситуация аналогичная: ОКПД первой версии использовался до 2014 года, после чего был введён новый классификатор -- ОКПД2. \n",
    "\n",
    "Количество пропущенных значений в колонке `prodQuantity` превышает количество пропущенных значений в колонке `prodSum`. Так как количество закупленных продуктов -- это сумма (общая стоимость) / стоимость одного продукта, некоторые значения можно досчитать и тем самым дополнить значения в колонке. "
   ]
  },
  {
   "attachments": {},
   "cell_type": "markdown",
   "metadata": {},
   "source": [
    "Посмотрим на типы данных и формат записи этих данных в датафрейме (на примере пяти случайных строк). Менять типы данных на специальные (категориальные, даты) нужно будет уже непосредственно при анализе, так как при сохранении датафрейма в csv или json эти специальные типы будут преобразованы в object или str. Перед сохранением же достаточно очистить записи от лишних знаков. "
   ]
  },
  {
   "cell_type": "code",
   "execution_count": 35,
   "metadata": {},
   "outputs": [
    {
     "data": {
      "text/plain": [
       "regNum                   object\n",
       "currentContractStage     object\n",
       "signDate                 object\n",
       "startDate                object\n",
       "endDate                  object\n",
       "executionMonth           object\n",
       "executionYear            object\n",
       "regionCode               object\n",
       "fz                       object\n",
       "currencyCode             object\n",
       "contractPrice           float64\n",
       "suppliers                object\n",
       "OKPD2                    object\n",
       "OKPD                     object\n",
       "prodPrice               float64\n",
       "prodQuantity             object\n",
       "prodSum                 float64\n",
       "contractUrl              object\n",
       "printFormUrl             object\n",
       "dtype: object"
      ]
     },
     "metadata": {},
     "output_type": "display_data"
    },
    {
     "data": {
      "text/html": [
       "<div>\n",
       "<style scoped>\n",
       "    .dataframe tbody tr th:only-of-type {\n",
       "        vertical-align: middle;\n",
       "    }\n",
       "\n",
       "    .dataframe tbody tr th {\n",
       "        vertical-align: top;\n",
       "    }\n",
       "\n",
       "    .dataframe thead th {\n",
       "        text-align: right;\n",
       "    }\n",
       "</style>\n",
       "<table border=\"1\" class=\"dataframe\">\n",
       "  <thead>\n",
       "    <tr style=\"text-align: right;\">\n",
       "      <th></th>\n",
       "      <th>regNum</th>\n",
       "      <th>currentContractStage</th>\n",
       "      <th>signDate</th>\n",
       "      <th>startDate</th>\n",
       "      <th>endDate</th>\n",
       "      <th>executionMonth</th>\n",
       "      <th>executionYear</th>\n",
       "      <th>regionCode</th>\n",
       "      <th>fz</th>\n",
       "      <th>currencyCode</th>\n",
       "      <th>contractPrice</th>\n",
       "      <th>suppliers</th>\n",
       "      <th>OKPD2</th>\n",
       "      <th>OKPD</th>\n",
       "      <th>prodPrice</th>\n",
       "      <th>prodQuantity</th>\n",
       "      <th>prodSum</th>\n",
       "      <th>contractUrl</th>\n",
       "      <th>printFormUrl</th>\n",
       "    </tr>\n",
       "  </thead>\n",
       "  <tbody>\n",
       "    <tr>\n",
       "      <th>1114</th>\n",
       "      <td>0173100002213000062</td>\n",
       "      <td>E</td>\n",
       "      <td>2013-04-16T00:00:00</td>\n",
       "      <td>None</td>\n",
       "      <td>None</td>\n",
       "      <td>12</td>\n",
       "      <td>2013</td>\n",
       "      <td>77</td>\n",
       "      <td>94</td>\n",
       "      <td>RUB</td>\n",
       "      <td>1909047.5</td>\n",
       "      <td>[[Общество с ограниченной ответственностью \"Це...</td>\n",
       "      <td>None</td>\n",
       "      <td>None</td>\n",
       "      <td>1909047.50</td>\n",
       "      <td>1</td>\n",
       "      <td>1909047.50</td>\n",
       "      <td>http://zakupki.gov.ru/epz/contract/contractCar...</td>\n",
       "      <td>http://zakupki.gov.ru/pgz/printForm?type=CONTR...</td>\n",
       "    </tr>\n",
       "    <tr>\n",
       "      <th>343</th>\n",
       "      <td>1770420620120000016</td>\n",
       "      <td>ET</td>\n",
       "      <td>2020-04-23T00:00:00</td>\n",
       "      <td>2019-10-01</td>\n",
       "      <td>2022-03-31</td>\n",
       "      <td>None</td>\n",
       "      <td>None</td>\n",
       "      <td>77</td>\n",
       "      <td>44</td>\n",
       "      <td>RUB</td>\n",
       "      <td>6263730.0</td>\n",
       "      <td>[[ОБЩЕСТВО С ОГРАНИЧЕННОЙ ОТВЕТСТВЕННОСТЬЮ \"АВ...</td>\n",
       "      <td>68.32.12.000</td>\n",
       "      <td>None</td>\n",
       "      <td>6263730.00</td>\n",
       "      <td>1</td>\n",
       "      <td>6263730.00</td>\n",
       "      <td>http://zakupki.gov.ru/epz/contract/contractCar...</td>\n",
       "      <td>https://zakupki.gov.ru/epz/contract/printForm/...</td>\n",
       "    </tr>\n",
       "    <tr>\n",
       "      <th>128</th>\n",
       "      <td>1770420620121000081</td>\n",
       "      <td>E</td>\n",
       "      <td>2021-11-29T00:00:00</td>\n",
       "      <td>2021-11-29</td>\n",
       "      <td>2022-12-31</td>\n",
       "      <td>None</td>\n",
       "      <td>None</td>\n",
       "      <td>77</td>\n",
       "      <td>44</td>\n",
       "      <td>RUB</td>\n",
       "      <td>83350000.0</td>\n",
       "      <td>[[ФЕДЕРАЛЬНОЕ ГОСУДАРСТВЕННОЕ УНИТАРНОЕ ПРЕДПР...</td>\n",
       "      <td>51.10.13.000</td>\n",
       "      <td>None</td>\n",
       "      <td>83350000.00</td>\n",
       "      <td>1</td>\n",
       "      <td>83350000.00</td>\n",
       "      <td>http://zakupki.gov.ru/epz/contract/contractCar...</td>\n",
       "      <td>https://zakupki.gov.ru/epz/contract/printForm/...</td>\n",
       "    </tr>\n",
       "    <tr>\n",
       "      <th>1327</th>\n",
       "      <td>0173100002212000004</td>\n",
       "      <td>E</td>\n",
       "      <td>2012-01-15T00:00:00</td>\n",
       "      <td>None</td>\n",
       "      <td>None</td>\n",
       "      <td>3</td>\n",
       "      <td>2012</td>\n",
       "      <td>77</td>\n",
       "      <td>94</td>\n",
       "      <td>RUB</td>\n",
       "      <td>6864000.0</td>\n",
       "      <td>[[Федеральное государственное унитарное предпр...</td>\n",
       "      <td>None</td>\n",
       "      <td>None</td>\n",
       "      <td>6864000.00</td>\n",
       "      <td>1</td>\n",
       "      <td>6864000.00</td>\n",
       "      <td>http://zakupki.gov.ru/epz/contract/contractCar...</td>\n",
       "      <td>http://zakupki.gov.ru/pgz/printForm?type=CONTR...</td>\n",
       "    </tr>\n",
       "    <tr>\n",
       "      <th>59</th>\n",
       "      <td>1770420620122000039</td>\n",
       "      <td>EC</td>\n",
       "      <td>2022-08-08T00:00:00</td>\n",
       "      <td>2022-08-08</td>\n",
       "      <td>2022-12-31</td>\n",
       "      <td>None</td>\n",
       "      <td>None</td>\n",
       "      <td>77</td>\n",
       "      <td>44</td>\n",
       "      <td>RUB</td>\n",
       "      <td>9999213.2</td>\n",
       "      <td>[[ОБЩЕСТВО С ОГРАНИЧЕННОЙ ОТВЕТСТВЕННОСТЬЮ \"ФИ...</td>\n",
       "      <td>None</td>\n",
       "      <td>None</td>\n",
       "      <td>599.87</td>\n",
       "      <td>1</td>\n",
       "      <td>599.87</td>\n",
       "      <td>http://zakupki.gov.ru/epz/contract/contractCar...</td>\n",
       "      <td>https://zakupki.gov.ru/epz/contract/printForm/...</td>\n",
       "    </tr>\n",
       "  </tbody>\n",
       "</table>\n",
       "</div>"
      ],
      "text/plain": [
       "                   regNum currentContractStage             signDate  \\\n",
       "1114  0173100002213000062                    E  2013-04-16T00:00:00   \n",
       "343   1770420620120000016                   ET  2020-04-23T00:00:00   \n",
       "128   1770420620121000081                    E  2021-11-29T00:00:00   \n",
       "1327  0173100002212000004                    E  2012-01-15T00:00:00   \n",
       "59    1770420620122000039                   EC  2022-08-08T00:00:00   \n",
       "\n",
       "       startDate     endDate executionMonth executionYear regionCode  fz  \\\n",
       "1114        None        None             12          2013         77  94   \n",
       "343   2019-10-01  2022-03-31           None          None         77  44   \n",
       "128   2021-11-29  2022-12-31           None          None         77  44   \n",
       "1327        None        None              3          2012         77  94   \n",
       "59    2022-08-08  2022-12-31           None          None         77  44   \n",
       "\n",
       "     currencyCode  contractPrice  \\\n",
       "1114          RUB      1909047.5   \n",
       "343           RUB      6263730.0   \n",
       "128           RUB     83350000.0   \n",
       "1327          RUB      6864000.0   \n",
       "59            RUB      9999213.2   \n",
       "\n",
       "                                              suppliers         OKPD2  OKPD  \\\n",
       "1114  [[Общество с ограниченной ответственностью \"Це...          None  None   \n",
       "343   [[ОБЩЕСТВО С ОГРАНИЧЕННОЙ ОТВЕТСТВЕННОСТЬЮ \"АВ...  68.32.12.000  None   \n",
       "128   [[ФЕДЕРАЛЬНОЕ ГОСУДАРСТВЕННОЕ УНИТАРНОЕ ПРЕДПР...  51.10.13.000  None   \n",
       "1327  [[Федеральное государственное унитарное предпр...          None  None   \n",
       "59    [[ОБЩЕСТВО С ОГРАНИЧЕННОЙ ОТВЕТСТВЕННОСТЬЮ \"ФИ...          None  None   \n",
       "\n",
       "        prodPrice prodQuantity      prodSum  \\\n",
       "1114   1909047.50            1   1909047.50   \n",
       "343    6263730.00            1   6263730.00   \n",
       "128   83350000.00            1  83350000.00   \n",
       "1327   6864000.00            1   6864000.00   \n",
       "59         599.87            1       599.87   \n",
       "\n",
       "                                            contractUrl  \\\n",
       "1114  http://zakupki.gov.ru/epz/contract/contractCar...   \n",
       "343   http://zakupki.gov.ru/epz/contract/contractCar...   \n",
       "128   http://zakupki.gov.ru/epz/contract/contractCar...   \n",
       "1327  http://zakupki.gov.ru/epz/contract/contractCar...   \n",
       "59    http://zakupki.gov.ru/epz/contract/contractCar...   \n",
       "\n",
       "                                           printFormUrl  \n",
       "1114  http://zakupki.gov.ru/pgz/printForm?type=CONTR...  \n",
       "343   https://zakupki.gov.ru/epz/contract/printForm/...  \n",
       "128   https://zakupki.gov.ru/epz/contract/printForm/...  \n",
       "1327  http://zakupki.gov.ru/pgz/printForm?type=CONTR...  \n",
       "59    https://zakupki.gov.ru/epz/contract/printForm/...  "
      ]
     },
     "metadata": {},
     "output_type": "display_data"
    }
   ],
   "source": [
    "display(df.dtypes)\n",
    "display(df.sample(5))"
   ]
  },
  {
   "attachments": {},
   "cell_type": "markdown",
   "metadata": {},
   "source": [
    "Досчитаем недостающее количество продуктов. "
   ]
  },
  {
   "cell_type": "code",
   "execution_count": 36,
   "metadata": {},
   "outputs": [
    {
     "name": "stdout",
     "output_type": "stream",
     "text": [
      "Количество оставшихся пропущенных значений в колонке prodQuantity: 56\n"
     ]
    }
   ],
   "source": [
    "df.prodQuantity = df.prodQuantity.astype('float')\n",
    "df.prodQuantity = df.prodQuantity.fillna(df.prodSum / df.prodPrice)\n",
    "\n",
    "print('Количество оставшихся пропущенных значений в колонке prodQuantity:', df.prodQuantity.isna().sum())"
   ]
  },
  {
   "attachments": {},
   "cell_type": "markdown",
   "metadata": {},
   "source": [
    "В колонках `signDate`, `startDate`, `endDate` уберём выражение \"T00:00:00\", которое является частью стандартной временной отметки в json, получаемого через API, но по сути не несёт в себе никакой информации. "
   ]
  },
  {
   "cell_type": "code",
   "execution_count": 37,
   "metadata": {},
   "outputs": [],
   "source": [
    "df.signDate = df.signDate.str.replace('T00:00:00', '')\n",
    "df.startDate = df.startDate.str.replace('T00:00:00', '')\n",
    "df.endDate = df.endDate.str.replace('T00:00:00', '')"
   ]
  },
  {
   "attachments": {},
   "cell_type": "markdown",
   "metadata": {},
   "source": [
    "В колонках `executionMonth` и `executionYear` содержатся месяц и год начала действия контракта. Аналогичная, но более детализированная информация содержится в колонке `startDate`. Поскольку по своему смыслу две колонки крайне близки, объединим их: в колонку `startDate` вместо пропущенных ячеек добавим значения из `executionMonth` и `executionYear` (число поставим 1). \n",
    "\n",
    "Такое решение, с одной стороны, делает набор данных более структурированным, с другой -- накладывает ограничение на дальнейший анализ: невозможно использовать конкретные даты начала при статистических расчётах. После дополнения колонки `startDate`, столбцы `executionMonth` и `executionYear` можно удалить за ненадобностью."
   ]
  },
  {
   "cell_type": "code",
   "execution_count": 38,
   "metadata": {},
   "outputs": [],
   "source": [
    "df.endDate = df.endDate.fillna(df.executionYear + '-' + df.executionMonth + '-01')\n",
    "df.drop(columns=['executionMonth', 'executionYear'], inplace=True)"
   ]
  },
  {
   "attachments": {},
   "cell_type": "markdown",
   "metadata": {},
   "source": [
    "В колонке `suppliers` содержится список списков поставщиком по данному контракту, причём про каждого поставщика известны название организации, ИНН организации и тип организации (физическое или юридическое лицо). Это разнородные данные, которые необходимо распаковать в отдельные столбцы. \n",
    "\n",
    "Для начала создадим три отдельных списка: список названий организаций (длина должна совпасть с длиной датафрейма), список ИНН организаций (длина должна совпасть с длиной датафрейма), список типов организаций (длина должна совпасть с длиной датафрейма). Известно, что как минимум в части строк список поставщиков по сути представляет собой перечисление нескольких вариаций названия организации, притом что ИНН у всех названий совпадает. \n",
    "\n",
    "С помощью цикла for проитерируем все строки в колонке поставщиков, причем названия организаций сразу приводятся к единому виду (все в верхнем регистре, кавычки одинаковые). Если по сути список поставщиков представляет собой поставщика, названного несколькими разными способами, то в список ИНН добавляется список, содержащий в себе только один ИНН; аналогично с типом компании (они совпадают в таком случае так же, как и ИНН). "
   ]
  },
  {
   "cell_type": "code",
   "execution_count": 39,
   "metadata": {},
   "outputs": [],
   "source": [
    "sup_names_column, sup_innslist_column, sup_listtypes_column = list(), list(), list()\n",
    "\n",
    "for x in df.suppliers:  \n",
    "    names_list = [sup[0].upper().replace('«', '\"').replace('»', '\"').replace(\"'\", '\"') for sup in x]\n",
    "    inns_list = [sup[1] for sup in x]\n",
    "    types_list = [sup[2] for sup in x]\n",
    "\n",
    "    if len(set(inns_list)) == 1:\n",
    "        sup_name = list(set(names_list))\n",
    "        sup_inn = [inns_list[0]]\n",
    "        sup_type = [types_list[0]]\n",
    "    else:\n",
    "        sup_name = names_list    \n",
    "        sup_inn = inns_list\n",
    "        sup_type = types_list\n",
    "\n",
    "    sup_names_column.append(sup_name)\n",
    "    sup_innslist_column.append(sup_inn)\n",
    "    sup_listtypes_column.append(sup_type)"
   ]
  },
  {
   "attachments": {},
   "cell_type": "markdown",
   "metadata": {},
   "source": [
    "Убедимся, что размерность получишвихся трёх списков совпадает с размерностью датафрейма (иначе не получится преобразовать их в колонки). "
   ]
  },
  {
   "cell_type": "code",
   "execution_count": 40,
   "metadata": {},
   "outputs": [
    {
     "data": {
      "text/plain": [
       "(True, True, True)"
      ]
     },
     "execution_count": 40,
     "metadata": {},
     "output_type": "execute_result"
    }
   ],
   "source": [
    "len(sup_names_column) == df.shape[0], len(sup_innslist_column) == df.shape[0], len(sup_listtypes_column) == df.shape[0]"
   ]
  },
  {
   "attachments": {},
   "cell_type": "markdown",
   "metadata": {},
   "source": [
    "Посмотрим,\n",
    "- существуют ли строки, в которых содержится несколько названий организации, \n",
    "- существуют ли строки, в которых содержится несколько ИНН (то есть действительно было несколько поставщиков), \n",
    "- существуют ли строки, в которых содержится несколько типов компаний (то есть действительно было несколько поставщиков).  "
   ]
  },
  {
   "cell_type": "code",
   "execution_count": 41,
   "metadata": {},
   "outputs": [
    {
     "name": "stdout",
     "output_type": "stream",
     "text": [
      "['ФЕДЕРАЛЬНОЕ ГОСУДАРСТВЕННОЕ УНИТАРНОЕ ПРЕДПРИЯТИЕ \"ГЛАВНЫЙ ЦЕНТР СПЕЦИАЛЬНОЙ СВЯЗИ\"', 'ФИЛИАЛ ФЕДЕРАЛЬНОГО ГОСУДАРСТВЕННОГО УНИТАРНОГО ПРЕДПРИЯТИЯ \"ГЛАВНЫЙ ЦЕНТР СПЕЦИАЛЬНОЙ СВЯЗИ\"-УПРАВЛЕНИЕ СПЕЦИАЛЬНОЙ СВЯЗИ ПО Г.МОСКВЕ И МОСКОВСКОЙ ОБЛАСТИ']\n",
      "['ФЕДЕРАЛЬНОЕ ГОСУДАРСТВЕННОЕ УНИТАРНОЕ ПРЕДПРИЯТИЕ \"ГЛАВНОЕ ПРОИЗВОДСТВЕННО-КОММЕРЧЕСКОЕ УПРАВЛЕНИЕ ПО ОБСЛУЖИВАНИЮ ДИПЛОМАТИЧЕСКОГО КОРПУСА ПРИ МИНИСТЕРСТВЕ ИНОСТРАННЫХ ДЕЛ РОССИЙСКОЙ ФЕДЕРАЦИИ\"', 'ФЕДЕРАЛЬНОЕ ГОСУДАРСТВЕННОЕ УНИТАРНОЕ ПРЕДПРИЯТИЕ ФИЛИАЛ \"МЕДИНЦЕНТР\" ГЛАВУПДК ПРИ МИД РОССИИ']\n",
      "['ФЕДЕРАЛЬНОЕ ГОСУДАРСТВЕННОЕ УНИТАРНОЕ ПРЕДПРИЯТИЕ \"ГЛАВНОЕ ПРОИЗВОДСТВЕННО-КОММЕРЧЕСКОЕ УПРАВЛЕНИЕ ПО ОБСЛУЖИВАНИЮ ДИПЛОМАТИЧЕСКОГО КОРПУСА ПРИ МИНИСТЕРСТВЕ ИНОСТРАННЫХ ДЕЛ РОССИЙСКОЙ ФЕДЕРАЦИИ\"', 'ФИЛИАЛ \"МЕДИНЦЕНТР\" ГЛАВУПДК ПРИ МИД РОССИИ']\n",
      "['АКЦИОНЕРНОЕ ОБЩЕСТВО \"ПОЧТА РОССИИ\"', 'УПРАВЛЕНИЕ ФЕДЕРАЛЬНОЙ ПОЧТОВОЙ СВЯЗИ Г. МОСКВЫ']\n",
      "['ФЕДЕРАЛЬНОЕ ГОСУДАРСТВЕННОЕ УНИТАРНОЕ ПРЕДПРИЯТИЕ \"ГЛАВНОЕ ПРОИЗВОДСТВЕННО-КОММЕРЧЕСКОЕ УПРАВЛЕНИЕ ПО ОБСЛУЖИВАНИЮ ДИПЛОМАТИЧЕСКОГО КОРПУСА ПРИ МИНИСТЕРСТВЕ ИНОСТРАННЫХ ДЕЛ РОССИЙСКОЙ ФЕДЕРАЦИИ\"', 'ФИЛИАЛ МЕДИНЦЕНТР ГЛАВУПДК ПРИ МИД РОССИИ']\n",
      "['ФИЛИАЛ ФЕДЕРАЛЬНОГО ГОСУДАРСТВЕННОГО УНИТАРНОГО ПРЕДПРИЯТИЯ \"ГЛАВНЫЙ ЦЕНТР СПЕЦИАЛЬНОЙ СВЯЗИ\"', 'ФЕДЕРАЛЬНОЕ ГОСУДАРСТВЕННОЕ УНИТАРНОЕ ПРЕДПРИЯТИЕ \"ГЛАВНЫЙ ЦЕНТР СПЕЦИАЛЬНОЙ СВЯЗИ\"']\n",
      "['АКЦИОНЕРНОЕ ОБЩЕСТВО \"ПОЧТА РОССИИ\"', 'УФПС Г.МОСКВЫ']\n",
      "['ФЕДЕРАЛЬНОЕ ГОСУДАРСТВЕННОЕ УНИТАРНОЕ ПРЕДПРИЯТИЕ \"ГЛАВНОЕ ПРОИЗВОДСТВЕННО-КОММЕРЧЕСКОЕ УПРАВЛЕНИЕ ПО ОБСЛУЖИВАНИЮ ДИПЛОМАТИЧЕСКОГО КОРПУСА ПРИ МИНИСТЕРСТВЕ ИНОСТРАННЫХ ДЕЛ РОССИЙСКОЙ ФЕДЕРАЦИИ\"', 'ФИЛИАЛ ФЕДЕРАЛЬНОГО ГОСУДАРСТВЕННОГО УНИТАРНОГО ПРЕДПРИЯТИЯ  \"ГЛАВНОЕ ПРОИЗВОДСТВЕННО-КОММЕРЧЕСКОЕ УПРАВЛЕНИЕ ПО ОБСЛУЖИВАНИЮ ДИПЛОМАТИЧЕСКОГО КОРПУСА ПРИ МИНИСТЕРСТВЕ ИНОСТРАННЫХ ДЕЛ РОССИЙСКОЙ ФЕДЕРАЦИИ\" \"МЕДИНЦЕНТР\"']\n",
      "['УФПС Г.МОСКВЫ-ФИЛИАЛ ФГУП \"ПОЧТА РОССИИ\"', 'ФЕДЕРАЛЬНОЕ ГОСУДАРСТВЕННОЕ УНИТАРНОЕ ПРЕДПРИЯТИЕ \"ПОЧТА РОССИИ\"']\n",
      "['СТОЛИЧНЫЙ ФИЛИАЛ ПАО \"МЕГАФОН\"', 'ПУБЛИЧНОЕ АКЦИОНЕРНОЕ ОБЩЕСТВО \"МЕГАФОН\"']\n",
      "['СТОЛИЧНЫЙ ФИЛИАЛ ПАО \"МЕГАФОН\"', 'ПУБЛИЧНОЕ АКЦИОНЕРНОЕ ОБЩЕСТВО \"МЕГАФОН\"']\n",
      "['ООО \"ВИТРИКС\"', 'ОБЩЕСТВО С ОГРАНИЧЕННОЙ ОТВЕТСТВЕННОСТЬЮ \"ВИТРИКС\"']\n",
      "['ООО \"ЛАЙНОФИС\"', 'ОБЩЕСТВО С ОГРАНИЧЕННОЙ ОТВЕТСТВЕННОСТЬЮ \"ЛАЙНОФИС\"']\n",
      "['ФГУП \"ПОЧТА РОССИИ\"', 'УФПС Г. МОСКВЫ-ФИЛИАЛ ФГУП \"ПОЧТА РОССИИ\"']\n"
     ]
    }
   ],
   "source": [
    "for sup in sup_names_column:\n",
    "    if len(sup) > 1:\n",
    "        print(sup)"
   ]
  },
  {
   "cell_type": "code",
   "execution_count": 42,
   "metadata": {},
   "outputs": [],
   "source": [
    "for sup in sup_innslist_column:\n",
    "    if len(sup) > 1:\n",
    "        print(sup)"
   ]
  },
  {
   "cell_type": "code",
   "execution_count": 43,
   "metadata": {},
   "outputs": [],
   "source": [
    "for sup in sup_listtypes_column:\n",
    "    if len(sup) > 1:\n",
    "        print(sup)"
   ]
  },
  {
   "attachments": {},
   "cell_type": "markdown",
   "metadata": {},
   "source": [
    "Так как строк, содержащих несколько ИНН или несколько типов компаний не найдено, можно заключить, что во всех строках, в которых содержится несколько названий компаний, с точки зрения ФНС речь идёт об одной организации. Поэтому преобразуем список ИНН и список типов компаний таким образом, чтобы в ячейках содержались не списки с единственными строками внутри них, а просто строки -- ИНН или тип компании. "
   ]
  },
  {
   "cell_type": "code",
   "execution_count": 44,
   "metadata": {},
   "outputs": [],
   "source": [
    "sup_inns_column = [inn[0] for inn in sup_innslist_column]\n",
    "sup_types_column = [types[0] for types in sup_listtypes_column]"
   ]
  },
  {
   "attachments": {},
   "cell_type": "markdown",
   "metadata": {},
   "source": [
    "Собранные данные можно записать в качестве колонок в имеющийся датафрейм. Колонку `suppliers`, содержащую список списков (теперь распакованный и распределённый по столбцам), можно удалить. "
   ]
  },
  {
   "cell_type": "code",
   "execution_count": 45,
   "metadata": {},
   "outputs": [],
   "source": [
    "df['sup_name'] = sup_names_column\n",
    "df['sup_inn'] = sup_inns_column\n",
    "df['sup_type'] = sup_types_column\n",
    "\n",
    "df.drop(columns=['suppliers'], inplace=True)"
   ]
  },
  {
   "attachments": {},
   "cell_type": "markdown",
   "metadata": {},
   "source": [
    "Предварительную обработку данных можно считать практически завершённой. Единственное, что нужно сделать ещё, -- убедиться, что все колонки в наборе данных содержат разнообразные данные (иначе нет смысла сохранять колонку, так как в ней одно-единственное значение). "
   ]
  },
  {
   "cell_type": "code",
   "execution_count": 46,
   "metadata": {},
   "outputs": [],
   "source": [
    "column_names = ['regNum', 'currentContractStage', 'signDate', 'startDate', 'endDate', 'regionCode', \n",
    "                'fz', 'currencyCode', 'contractPrice', 'OKPD2', 'OKPD', 'prodPrice', 'prodQuantity', \n",
    "                'prodSum', 'contractUrl', 'printFormUrl', 'sup_inn', 'sup_type']\n",
    "\n",
    "for col in column_names:\n",
    "    unique_num = len(df[col].unique())\n",
    "    \n",
    "    # Если в колонке содержится одно уникальное значение, \n",
    "    # код выведет название этой колонки. \n",
    "    # В противном случае программа не выведет ничего. \n",
    "    if unique_num == 1:\n",
    "        print(col)"
   ]
  },
  {
   "attachments": {},
   "cell_type": "markdown",
   "metadata": {},
   "source": [
    "В предыдущей ячейке ничего не вывелось -- это значит, что все колонки содержат минимум 2 уникальных значения (и это значит, что они могут быть ценны для анализа). Предварительная обработка данных завершена, можно сохранять полученные результаты. \n",
    "\n",
    "Извлечем ссылки на контракты в отдельный датафрейм; чтобы иметь возможность обращаться к нему по номеру контракта, также запишем в датафрейм значение из колонки `regNum`. Также создадим второй датафрейм -- по сути, очищенный и готовый к последующему анализу. "
   ]
  },
  {
   "cell_type": "code",
   "execution_count": 47,
   "metadata": {},
   "outputs": [],
   "source": [
    "contracts_urls = df[['regNum', 'contractUrl', 'printFormUrl']]\n",
    "df_clear = df[['regNum', 'currentContractStage', 'signDate', 'startDate', 'endDate', \n",
    "               'regionCode', 'fz', 'currencyCode', 'contractPrice', 'sup_name', 'sup_inn', \n",
    "               'sup_type', 'OKPD2', 'OKPD', 'prodPrice', 'prodQuantity', 'prodSum']]"
   ]
  },
  {
   "attachments": {},
   "cell_type": "markdown",
   "metadata": {},
   "source": [
    "Сохраним оба датафрейма в двух форматах: в csv и в json (позволяет сохранить колонку `sup_name` в качестве реального итерируемого списка, а не объекта, похожего на список). "
   ]
  },
  {
   "cell_type": "code",
   "execution_count": 48,
   "metadata": {},
   "outputs": [],
   "source": [
    "contracts_urls.to_json('data/contr_urls.json', orient='records')\n",
    "contracts_urls.to_csv('data/contr_urls.csv')\n",
    "\n",
    "df_clear.to_json('data/contr_data.json', orient='records')\n",
    "df_clear.to_csv('data/contr_data.csv')"
   ]
  },
  {
   "attachments": {},
   "cell_type": "markdown",
   "metadata": {},
   "source": [
    "Также сохраним описание структуры данных для каждого из наборов. "
   ]
  },
  {
   "cell_type": "code",
   "execution_count": 49,
   "metadata": {},
   "outputs": [],
   "source": [
    "urls_struc = contracts_urls.dtypes.to_frame()\n",
    "urls_struc['column'] = urls_struc.index\n",
    "urls_struc['dtype'] = urls_struc[0]\n",
    "urls_struc['non-null'] = [contracts_urls[col].count() for col in contracts_urls.columns]\n",
    "urls_struc['descr'] = ['Идентификационный номер контракта', \n",
    "                       'URL на контракт на сайте zakupki.gov.ru', \n",
    "                       'URL на печатную версию контракта на сайте zakupki.gov.ru']\n",
    "\n",
    "urls_struc.index = range(urls_struc.shape[0])\n",
    "urls_struc.drop(columns=[0], inplace=True)\n",
    "\n",
    "urls_struc.to_csv('data/contr_urls_struc.csv')"
   ]
  },
  {
   "cell_type": "code",
   "execution_count": 50,
   "metadata": {},
   "outputs": [],
   "source": [
    "df_struc = df_clear.dtypes.to_frame()\n",
    "df_struc['column'] = df_struc.index\n",
    "df_struc['dtype'] = df_struc[0]\n",
    "df_struc['non-null'] = [df_clear[col].count() for col in df_clear.columns]\n",
    "df_struc['descr'] = ['Идентификационный номер контракта', 'Код текущего статуса контракта', \n",
    "                     'Дата подписания контракта', 'Дата начала действия контракта', \n",
    "                     'Дата окончания действия контракта', 'Код региона заказчика', 'Номер федерального закона', \n",
    "                     'Код валюты контракта', 'Общая цена контракта', 'Название организаций-поставщиков', \n",
    "                     'ИНН организации-поставщика', 'Тип организации-поставщика', 'Код ОКПД2 (с 2014 г.)', \n",
    "                     'Код ОКПД (до 2014 г.)', 'Стоимость 1 ед. продукта', 'Количество ед. продукта', \n",
    "                     'Сумма закупки данного продукта (цена * количество)']\n",
    "\n",
    "df_struc.index = range(df_struc.shape[0])\n",
    "df_struc.drop(columns=[0], inplace=True)\n",
    "\n",
    "df_struc.to_csv('data/contr_data_struc.csv')"
   ]
  }
 ],
 "metadata": {
  "kernelspec": {
   "display_name": ".venv",
   "language": "python",
   "name": "python3"
  },
  "language_info": {
   "codemirror_mode": {
    "name": "ipython",
    "version": 3
   },
   "file_extension": ".py",
   "mimetype": "text/x-python",
   "name": "python",
   "nbconvert_exporter": "python",
   "pygments_lexer": "ipython3",
   "version": "3.9.7"
  },
  "orig_nbformat": 4
 },
 "nbformat": 4,
 "nbformat_minor": 2
}
